{
 "cells": [
  {
   "cell_type": "markdown",
   "id": "0a8e6b5a",
   "metadata": {},
   "source": [
    "# SoundMap Music Recommendation (Based on CNN Classification)"
   ]
  },
  {
   "cell_type": "markdown",
   "id": "f6715e4c",
   "metadata": {},
   "source": [
    "## II. Music Genre Classification Using ResNet-Based CNN"
   ]
  },
  {
   "cell_type": "markdown",
   "id": "db380e8c",
   "metadata": {},
   "source": [
    "#### Project **SoundMap** ([Github](https://github.com/hojungcho/SoundMap))\n",
    "Audio Analysis & AI Modeling - Jeeho Lim"
   ]
  },
  {
   "cell_type": "markdown",
   "id": "03685f80",
   "metadata": {},
   "source": [
    "## Overview\n",
    "This notebook demonstrates the implementation of a convolutional neural network (CNN) based on the ResNet architecture for classifying music genres. The model uses spectrogram images of audio as input and is trained using PyTorch. Early stopping and learning rate adjustments are applied to optimize training. We will walk through each step, from data loading and preprocessing to model training and evaluation."
   ]
  },
  {
   "cell_type": "markdown",
   "id": "e63929eb",
   "metadata": {},
   "source": [
    "### Requirements"
   ]
  },
  {
   "cell_type": "markdown",
   "id": "68748931",
   "metadata": {},
   "source": [
    "- Python==3.11.5\n",
    "- pandas==2.0.3 \n",
    "- numpy==1.24.3 \n",
    "- librosa==0.10.2.post1 \n",
    "- matplotlib==3.7.2\n",
    "- Pillow (PIL)==9.4.0 \n",
    "- scikit-learn==1.3.0"
   ]
  },
  {
   "cell_type": "markdown",
   "id": "a8cd4a06",
   "metadata": {},
   "source": [
    "## Import Libraries"
   ]
  },
  {
   "cell_type": "code",
   "execution_count": 1,
   "id": "85af1038",
   "metadata": {},
   "outputs": [],
   "source": [
    "import torch\n",
    "import torch.nn as nn\n",
    "import torch.optim as optim\n",
    "from torch.utils.data import DataLoader, Dataset, random_split\n",
    "import numpy as np\n",
    "from tqdm import tqdm\n",
    "import time\n",
    "import copy\n",
    "import matplotlib.pyplot as plt"
   ]
  },
  {
   "cell_type": "markdown",
   "id": "8c9d7018",
   "metadata": {},
   "source": [
    "## Dataset Preparation"
   ]
  },
  {
   "cell_type": "markdown",
   "id": "265bdad6",
   "metadata": {},
   "source": [
    "Load the pre-saved training data using the `train_x.npy` and `train_y.npy` files. These files contain the **image data** and **labels** necessary for training.\n",
    "\n",
    "The dataset is split into **training** and **validation** sets in an 80:20 ratio. This split allows us to **evaluate performance** during training using the validation set."
   ]
  },
  {
   "cell_type": "code",
   "execution_count": 4,
   "id": "a91f8a82",
   "metadata": {},
   "outputs": [],
   "source": [
    "# Dataset class\n",
    "class MusicDataset(Dataset):\n",
    "    def __init__(self, images, labels):\n",
    "        self.images = images\n",
    "        self.labels = labels\n",
    "\n",
    "    def __len__(self):\n",
    "        return len(self.images)\n",
    "\n",
    "    def __getitem__(self, idx):\n",
    "        return self.images[idx].astype(np.float32) / 255.0, self.labels[idx]"
   ]
  },
  {
   "cell_type": "code",
   "execution_count": 5,
   "id": "bd4a4ddc",
   "metadata": {},
   "outputs": [],
   "source": [
    "# Load data\n",
    "train_x = np.load('Training_Data/train_x.npy')\n",
    "train_y = np.load('Training_Data/train_y.npy')"
   ]
  },
  {
   "cell_type": "code",
   "execution_count": 6,
   "id": "6edf5a84",
   "metadata": {},
   "outputs": [],
   "source": [
    "# Create dataset and split\n",
    "dataset = MusicDataset(train_x, train_y)\n",
    "train_size = int(0.8 * len(dataset))\n",
    "val_size = len(dataset) - train_size\n",
    "train_dataset, val_dataset = random_split(dataset, [train_size, val_size])"
   ]
  },
  {
   "cell_type": "code",
   "execution_count": 7,
   "id": "401ebf6f",
   "metadata": {},
   "outputs": [],
   "source": [
    "# DataLoader\n",
    "batch_size = 32\n",
    "train_loader = DataLoader(train_dataset, batch_size=batch_size, shuffle=True)\n",
    "val_loader = DataLoader(val_dataset, batch_size=batch_size, shuffle=False)"
   ]
  },
  {
   "cell_type": "markdown",
   "id": "f84e71d7",
   "metadata": {},
   "source": [
    "## Model Architecture: ResNet-Based CNN\n",
    "The model is a custom implementation of a CNN inspired by the ResNet architecture. It utilizes convolutional layers with residual blocks and batch normalization to ensure stability during training. Below is the code for defining the convolutional layers and the complete model architecture.\n"
   ]
  },
  {
   "cell_type": "markdown",
   "id": "97295bf7",
   "metadata": {},
   "source": [
    "To construct a ResNet-based network, we define Conv2D layers and Residual Blocks:\n",
    "\n",
    "- **`conv`**: A function that creates a convolutional layer. It uses a **kernel size** of 3, **stride** of 1, and padding to maintain the spatial dimensions of the input.\n",
    "- **`conv_layer`**: This layer adds **Batch Normalization** and a **ReLU activation** function to the convolutional layer, enhancing the network’s learning capability.\n",
    "- **`ResBlock`**: Implements a **Residual Block**, which passes the input through two convolutional layers and adds the original input back, maintaining a **residual connection**. This structure helps **stabilize training**, especially as the network deepens.\n",
    "- **`conv_layer_averpl`**: Combines a convolutional layer with **average pooling** to reduce the resolution of the input image, effectively reducing the feature map size.\n",
    "\n",
    "These blocks are designed to facilitate **efficient training**, even as the network depth increases."
   ]
  },
  {
   "cell_type": "code",
   "execution_count": 3,
   "id": "6192b17d",
   "metadata": {},
   "outputs": [],
   "source": [
    "# Define the conv layer and ResBlock\n",
    "def conv(ni, nf, ks=3, stride=1, bias=False):\n",
    "    return nn.Conv2d(ni, nf, kernel_size=ks, stride=stride, padding=ks//2, bias=bias)\n",
    "\n",
    "def conv_layer(ni, nf, ks=3, stride=1, act=True):\n",
    "    bn = nn.BatchNorm2d(nf)\n",
    "    layers = [conv(ni, nf, ks, stride)]\n",
    "    if act:\n",
    "        layers.append(nn.ReLU(inplace=True))\n",
    "    layers.append(bn)\n",
    "    return nn.Sequential(*layers)\n",
    "\n",
    "class ResBlock(nn.Module):\n",
    "    def __init__(self, nf):\n",
    "        super().__init__()\n",
    "        self.conv1 = conv_layer(nf, nf)\n",
    "        self.conv2 = conv_layer(nf, nf, act=False)\n",
    "\n",
    "    def forward(self, x):\n",
    "        return x + self.conv2(self.conv1(x))\n",
    "\n",
    "def conv_layer_averpl(ni, nf):\n",
    "    return nn.Sequential(conv_layer(ni, nf), nn.AvgPool2d(2, 2))\n",
    "\n",
    "# Define the complete CNN model\n",
    "class MusicGenreCNN(nn.Module):\n",
    "    def __init__(self):\n",
    "        super(MusicGenreCNN, self).__init__()\n",
    "        self.model = nn.Sequential(\n",
    "            conv_layer_averpl(1, 64),\n",
    "            ResBlock(64),\n",
    "            conv_layer_averpl(64, 64),\n",
    "            ResBlock(64),\n",
    "            conv_layer_averpl(64, 128),\n",
    "            ResBlock(128),\n",
    "            conv_layer_averpl(128, 256),\n",
    "            ResBlock(256),\n",
    "            conv_layer_averpl(256, 512),\n",
    "            ResBlock(512),\n",
    "            nn.AdaptiveAvgPool2d((2, 2)),\n",
    "            nn.Flatten(),\n",
    "            nn.Linear(2048, 40),\n",
    "            nn.Linear(40, 8)\n",
    "        )\n",
    "\n",
    "    def forward(self, x):\n",
    "        return self.model(x)"
   ]
  },
  {
   "cell_type": "markdown",
   "id": "d967124c",
   "metadata": {},
   "source": [
    "Set up the **loss function** (`CrossEntropyLoss`) and the **optimizer** (`AdamW`). These components are critical for **model optimization** and learning."
   ]
  },
  {
   "cell_type": "code",
   "execution_count": 8,
   "id": "bd134a2b",
   "metadata": {},
   "outputs": [],
   "source": [
    "# Model setup\n",
    "device = torch.device(\"mps\" if torch.backends.mps.is_available() else \"cpu\")\n",
    "model = MusicGenreCNN().to(device)\n",
    "criterion = nn.CrossEntropyLoss()\n",
    "optimizer = optim.AdamW(model.parameters(), lr=0.0001, weight_decay=0.01)"
   ]
  },
  {
   "cell_type": "markdown",
   "id": "33ef69c4",
   "metadata": {},
   "source": [
    "## Training Configuration\n",
    "We configure the loss function, optimizer, and learning rate adjustment function. We also implement early stopping to halt training if the validation loss does not improve after several epochs.\n"
   ]
  },
  {
   "cell_type": "markdown",
   "id": "ba7c787f",
   "metadata": {},
   "source": [
    "A function is defined to **calculate accuracy** by comparing the model’s predictions with the actual labels. This helps monitor the model’s **performance** during training."
   ]
  },
  {
   "cell_type": "code",
   "execution_count": 9,
   "id": "6ad95b5d",
   "metadata": {},
   "outputs": [],
   "source": [
    "# Function to calculate accuracy\n",
    "def calculate_accuracy(outputs, labels):\n",
    "    _, preds = torch.max(outputs, 1)\n",
    "    return torch.sum(preds == labels).item()"
   ]
  },
  {
   "cell_type": "markdown",
   "id": "93cd2cdc",
   "metadata": {},
   "source": [
    "Provide a function to **adjust the learning rate** at each epoch. The base learning rate is reduced by a factor of 10 every specified number of epochs (`decay_epoch`) to help **prevent overfitting** as training progresses."
   ]
  },
  {
   "cell_type": "code",
   "execution_count": 10,
   "id": "f3411d3c",
   "metadata": {},
   "outputs": [],
   "source": [
    "# Learning rate adjustment\n",
    "def adjust_learning_rate(optimizer, epoch, learning_rate, decay_epoch=12):\n",
    "    lr = learning_rate * (0.1 ** (epoch // decay_epoch))\n",
    "    for param_group in optimizer.param_groups:\n",
    "        param_group['lr'] = lr\n",
    "    return lr\n"
   ]
  },
  {
   "cell_type": "markdown",
   "id": "4455dd26",
   "metadata": {},
   "source": [
    "## Model Training\n",
    "We train the model for a maximum of 50 epochs while adjusting the learning rate and checking for early stopping. Training and validation accuracy/loss are tracked and stored for visualization.\n"
   ]
  },
  {
   "cell_type": "code",
   "execution_count": 11,
   "id": "e773de85",
   "metadata": {},
   "outputs": [],
   "source": [
    "# Early Stopping criteria\n",
    "class EarlyStopping:\n",
    "    def __init__(self, patience=5, min_delta=0.1):\n",
    "        self.patience = patience\n",
    "        self.min_delta = min_delta\n",
    "        self.counter = 0\n",
    "        self.best_loss = None\n",
    "        self.early_stop = False\n",
    "\n",
    "    def __call__(self, val_loss):\n",
    "        if self.best_loss is None:\n",
    "            self.best_loss = val_loss\n",
    "        elif val_loss > self.best_loss * (1 + self.min_delta):\n",
    "            self.counter += 1\n",
    "            if self.counter >= self.patience:\n",
    "                self.early_stop = True\n",
    "        else:\n",
    "            self.best_loss = val_loss\n",
    "            self.counter = 0"
   ]
  },
  {
   "cell_type": "code",
   "execution_count": 12,
   "id": "b2d19ca3",
   "metadata": {},
   "outputs": [
    {
     "name": "stdout",
     "output_type": "stream",
     "text": [
      "Epoch 1/50 - Learning Rate: 0.0001\n"
     ]
    },
    {
     "name": "stderr",
     "output_type": "stream",
     "text": [
      "Epoch 1/50: 100%|███| 1328/1328 [03:31<00:00,  6.29batch/s, Loss=1.46, Acc=48.3]\n"
     ]
    },
    {
     "name": "stdout",
     "output_type": "stream",
     "text": [
      "Epoch [1/50] completed in 211.20 seconds. Loss: 1.4559, Train Accuracy: 48.28%\n",
      "Validation Loss: 1.3974, Validation Accuracy: 51.38%\n",
      "Best model updated at Epoch 1 with Validation Accuracy: 51.38% and Loss: 1.3974\n",
      "Epoch 2/50 - Learning Rate: 0.0001\n"
     ]
    },
    {
     "name": "stderr",
     "output_type": "stream",
     "text": [
      "Epoch 2/50: 100%|███| 1328/1328 [03:39<00:00,  6.06batch/s, Loss=1.25, Acc=56.4]\n"
     ]
    },
    {
     "name": "stdout",
     "output_type": "stream",
     "text": [
      "Epoch [2/50] completed in 219.12 seconds. Loss: 1.2546, Train Accuracy: 56.36%\n",
      "Validation Loss: 1.2177, Validation Accuracy: 57.91%\n",
      "Best model updated at Epoch 2 with Validation Accuracy: 57.91% and Loss: 1.2177\n",
      "Epoch 3/50 - Learning Rate: 0.0001\n"
     ]
    },
    {
     "name": "stderr",
     "output_type": "stream",
     "text": [
      "Epoch 3/50: 100%|███| 1328/1328 [03:43<00:00,  5.94batch/s, Loss=1.16, Acc=59.8]\n"
     ]
    },
    {
     "name": "stdout",
     "output_type": "stream",
     "text": [
      "Epoch [3/50] completed in 223.62 seconds. Loss: 1.1552, Train Accuracy: 59.80%\n",
      "Validation Loss: 1.1824, Validation Accuracy: 58.82%\n",
      "Best model updated at Epoch 3 with Validation Accuracy: 58.82% and Loss: 1.1824\n",
      "Epoch 4/50 - Learning Rate: 0.0001\n"
     ]
    },
    {
     "name": "stderr",
     "output_type": "stream",
     "text": [
      "Epoch 4/50: 100%|█████| 1328/1328 [03:38<00:00,  6.07batch/s, Loss=1.07, Acc=63]\n"
     ]
    },
    {
     "name": "stdout",
     "output_type": "stream",
     "text": [
      "Epoch [4/50] completed in 218.73 seconds. Loss: 1.0694, Train Accuracy: 63.01%\n",
      "Validation Loss: 1.0925, Validation Accuracy: 61.83%\n",
      "Best model updated at Epoch 4 with Validation Accuracy: 61.83% and Loss: 1.0925\n",
      "Epoch 5/50 - Learning Rate: 0.0001\n"
     ]
    },
    {
     "name": "stderr",
     "output_type": "stream",
     "text": [
      "Epoch 5/50: 100%|██| 1328/1328 [03:38<00:00,  6.09batch/s, Loss=0.974, Acc=66.2]\n"
     ]
    },
    {
     "name": "stdout",
     "output_type": "stream",
     "text": [
      "Epoch [5/50] completed in 218.20 seconds. Loss: 0.9744, Train Accuracy: 66.23%\n",
      "Validation Loss: 1.1029, Validation Accuracy: 61.59%\n",
      "Best model updated at Epoch 5 with Validation Accuracy: 61.59% and Loss: 1.1029\n",
      "Epoch 6/50 - Learning Rate: 0.0001\n"
     ]
    },
    {
     "name": "stderr",
     "output_type": "stream",
     "text": [
      "Epoch 6/50: 100%|██| 1328/1328 [03:38<00:00,  6.07batch/s, Loss=0.857, Acc=70.3]\n"
     ]
    },
    {
     "name": "stdout",
     "output_type": "stream",
     "text": [
      "Epoch [6/50] completed in 218.96 seconds. Loss: 0.8567, Train Accuracy: 70.31%\n",
      "Validation Loss: 0.9664, Validation Accuracy: 66.67%\n",
      "Best model updated at Epoch 6 with Validation Accuracy: 66.67% and Loss: 0.9664\n",
      "Epoch 7/50 - Learning Rate: 0.0001\n"
     ]
    },
    {
     "name": "stderr",
     "output_type": "stream",
     "text": [
      "Epoch 7/50: 100%|████| 1328/1328 [03:36<00:00,  6.13batch/s, Loss=0.722, Acc=75]\n"
     ]
    },
    {
     "name": "stdout",
     "output_type": "stream",
     "text": [
      "Epoch [7/50] completed in 216.75 seconds. Loss: 0.7225, Train Accuracy: 75.03%\n",
      "Validation Loss: 0.9282, Validation Accuracy: 68.77%\n",
      "Best model updated at Epoch 7 with Validation Accuracy: 68.77% and Loss: 0.9282\n",
      "Epoch 8/50 - Learning Rate: 0.0001\n"
     ]
    },
    {
     "name": "stderr",
     "output_type": "stream",
     "text": [
      "Epoch 8/50: 100%|██| 1328/1328 [03:38<00:00,  6.07batch/s, Loss=0.589, Acc=79.6]\n"
     ]
    },
    {
     "name": "stdout",
     "output_type": "stream",
     "text": [
      "Epoch [8/50] completed in 218.96 seconds. Loss: 0.5890, Train Accuracy: 79.58%\n",
      "Validation Loss: 0.8645, Validation Accuracy: 71.49%\n",
      "Best model updated at Epoch 8 with Validation Accuracy: 71.49% and Loss: 0.8645\n",
      "Epoch 9/50 - Learning Rate: 0.0001\n"
     ]
    },
    {
     "name": "stderr",
     "output_type": "stream",
     "text": [
      "Epoch 9/50: 100%|████| 1328/1328 [03:34<00:00,  6.18batch/s, Loss=0.461, Acc=84]\n"
     ]
    },
    {
     "name": "stdout",
     "output_type": "stream",
     "text": [
      "Epoch [9/50] completed in 214.99 seconds. Loss: 0.4614, Train Accuracy: 83.95%\n",
      "Validation Loss: 0.8601, Validation Accuracy: 73.25%\n",
      "Best model updated at Epoch 9 with Validation Accuracy: 73.25% and Loss: 0.8601\n",
      "Epoch 10/50 - Learning Rate: 0.0001\n"
     ]
    },
    {
     "name": "stderr",
     "output_type": "stream",
     "text": [
      "Epoch 10/50: 100%|██| 1328/1328 [03:39<00:00,  6.06batch/s, Loss=0.35, Acc=87.9]\n"
     ]
    },
    {
     "name": "stdout",
     "output_type": "stream",
     "text": [
      "Epoch [10/50] completed in 219.10 seconds. Loss: 0.3499, Train Accuracy: 87.90%\n",
      "Validation Loss: 0.8004, Validation Accuracy: 75.83%\n",
      "Best model updated at Epoch 10 with Validation Accuracy: 75.83% and Loss: 0.8004\n",
      "Epoch 11/50 - Learning Rate: 0.0001\n"
     ]
    },
    {
     "name": "stderr",
     "output_type": "stream",
     "text": [
      "Epoch 11/50: 100%|█| 1328/1328 [03:39<00:00,  6.06batch/s, Loss=0.267, Acc=90.7]\n"
     ]
    },
    {
     "name": "stdout",
     "output_type": "stream",
     "text": [
      "Epoch [11/50] completed in 219.07 seconds. Loss: 0.2674, Train Accuracy: 90.65%\n",
      "Validation Loss: 0.8889, Validation Accuracy: 74.82%\n",
      "Epoch 12/50 - Learning Rate: 0.0001\n"
     ]
    },
    {
     "name": "stderr",
     "output_type": "stream",
     "text": [
      "Epoch 12/50: 100%|██| 1328/1328 [03:36<00:00,  6.13batch/s, Loss=0.22, Acc=92.4]\n"
     ]
    },
    {
     "name": "stdout",
     "output_type": "stream",
     "text": [
      "Epoch [12/50] completed in 216.66 seconds. Loss: 0.2200, Train Accuracy: 92.36%\n",
      "Validation Loss: 0.9294, Validation Accuracy: 74.97%\n",
      "Epoch 13/50 - Learning Rate: 1e-05\n"
     ]
    },
    {
     "name": "stderr",
     "output_type": "stream",
     "text": [
      "Epoch 13/50: 100%|█| 1328/1328 [03:38<00:00,  6.08batch/s, Loss=0.0636, Acc=98.1\n"
     ]
    },
    {
     "name": "stdout",
     "output_type": "stream",
     "text": [
      "Epoch [13/50] completed in 218.49 seconds. Loss: 0.0636, Train Accuracy: 98.14%\n",
      "Validation Loss: 0.7509, Validation Accuracy: 81.09%\n",
      "Best model updated at Epoch 13 with Validation Accuracy: 81.09% and Loss: 0.7509\n",
      "Epoch 14/50 - Learning Rate: 1e-05\n"
     ]
    },
    {
     "name": "stderr",
     "output_type": "stream",
     "text": [
      "Epoch 14/50: 100%|█| 1328/1328 [03:39<00:00,  6.06batch/s, Loss=0.0221, Acc=99.5\n"
     ]
    },
    {
     "name": "stdout",
     "output_type": "stream",
     "text": [
      "Epoch [14/50] completed in 219.02 seconds. Loss: 0.0221, Train Accuracy: 99.52%\n",
      "Validation Loss: 0.8324, Validation Accuracy: 81.60%\n",
      "Epoch 15/50 - Learning Rate: 1e-05\n"
     ]
    },
    {
     "name": "stderr",
     "output_type": "stream",
     "text": [
      "Epoch 15/50: 100%|█| 1328/1328 [03:39<00:00,  6.05batch/s, Loss=0.014, Acc=99.7]\n"
     ]
    },
    {
     "name": "stdout",
     "output_type": "stream",
     "text": [
      "Epoch [15/50] completed in 219.44 seconds. Loss: 0.0140, Train Accuracy: 99.70%\n",
      "Validation Loss: 0.8930, Validation Accuracy: 81.54%\n",
      "Epoch 16/50 - Learning Rate: 1e-05\n"
     ]
    },
    {
     "name": "stderr",
     "output_type": "stream",
     "text": [
      "Epoch 16/50: 100%|█| 1328/1328 [03:38<00:00,  6.09batch/s, Loss=0.0102, Acc=99.8\n"
     ]
    },
    {
     "name": "stdout",
     "output_type": "stream",
     "text": [
      "Epoch [16/50] completed in 218.06 seconds. Loss: 0.0102, Train Accuracy: 99.79%\n",
      "Validation Loss: 0.9365, Validation Accuracy: 81.73%\n",
      "Epoch 17/50 - Learning Rate: 1e-05\n"
     ]
    },
    {
     "name": "stderr",
     "output_type": "stream",
     "text": [
      "Epoch 17/50: 100%|█| 1328/1328 [03:40<00:00,  6.03batch/s, Loss=0.0102, Acc=99.8\n"
     ]
    },
    {
     "name": "stdout",
     "output_type": "stream",
     "text": [
      "Epoch [17/50] completed in 220.35 seconds. Loss: 0.0102, Train Accuracy: 99.79%\n",
      "Validation Loss: 0.9801, Validation Accuracy: 81.58%\n",
      "Epoch 18/50 - Learning Rate: 1e-05\n"
     ]
    },
    {
     "name": "stderr",
     "output_type": "stream",
     "text": [
      "Epoch 18/50: 100%|█| 1328/1328 [03:39<00:00,  6.06batch/s, Loss=0.00764, Acc=99.\n"
     ]
    },
    {
     "name": "stdout",
     "output_type": "stream",
     "text": [
      "Epoch [18/50] completed in 219.08 seconds. Loss: 0.0076, Train Accuracy: 99.81%\n",
      "Validation Loss: 1.0127, Validation Accuracy: 81.78%\n",
      "Early stopping at Epoch 18\n"
     ]
    }
   ],
   "source": [
    "# Initialize history dictionary to store loss and accuracy\n",
    "hist = {\n",
    "    'train_loss': [],\n",
    "    'val_loss': [],\n",
    "    'train_acc': [],\n",
    "    'val_acc': []\n",
    "}\n",
    "\n",
    "# Initialize early stopping and other tracking variables\n",
    "early_stopping = EarlyStopping(patience=5, min_delta=0.1)\n",
    "best_model_wts = copy.deepcopy(model.state_dict())\n",
    "\n",
    "# Training loop\n",
    "epochs = 50\n",
    "for epoch in range(epochs):\n",
    "    model.train()\n",
    "    running_loss = 0.0\n",
    "    correct_train = 0\n",
    "    total_train = 0\n",
    "\n",
    "    # Adjust learning rate\n",
    "    lr = adjust_learning_rate(optimizer, epoch, 0.0001)\n",
    "    print(f\"Epoch {epoch+1}/{epochs} - Learning Rate: {lr}\")\n",
    "\n",
    "    start_time = time.time()\n",
    "    with tqdm(total=len(train_loader), desc=f\"Epoch {epoch+1}/{epochs}\", unit=\"batch\") as pbar:\n",
    "        for i, (images, labels) in enumerate(train_loader):\n",
    "            images = images.unsqueeze(1).to(device)\n",
    "            labels = labels.squeeze().long().to(device)\n",
    "\n",
    "            # Forward pass\n",
    "            outputs = model(images)\n",
    "            loss = criterion(outputs, labels)\n",
    "\n",
    "            # Backward pass\n",
    "            optimizer.zero_grad()\n",
    "            loss.backward()\n",
    "            optimizer.step()\n",
    "\n",
    "            running_loss += loss.item()\n",
    "            correct_train += calculate_accuracy(outputs, labels)\n",
    "            total_train += labels.size(0)\n",
    "\n",
    "            pbar.set_postfix({\"Loss\": running_loss / (i + 1), \"Acc\": 100 * correct_train / total_train})\n",
    "            pbar.update(1)\n",
    "\n",
    "    train_accuracy = 100 * correct_train / total_train\n",
    "    elapsed_time = time.time() - start_time\n",
    "    print(f\"Epoch [{epoch+1}/{epochs}] completed in {elapsed_time:.2f} seconds. Loss: {running_loss / len(train_loader):.4f}, Train Accuracy: {train_accuracy:.2f}%\")\n",
    "\n",
    "    # Save train loss and accuracy\n",
    "    hist['train_loss'].append(running_loss / len(train_loader))\n",
    "    hist['train_acc'].append(train_accuracy)\n",
    "\n",
    "    # Validation\n",
    "    model.eval()\n",
    "    val_loss = 0.0\n",
    "    correct_val = 0\n",
    "    total_val = 0\n",
    "    with torch.no_grad():\n",
    "        for images, labels in val_loader:\n",
    "            images = images.unsqueeze(1).to(device)\n",
    "            labels = labels.squeeze().long().to(device)\n",
    "\n",
    "            outputs = model(images)\n",
    "            loss = criterion(outputs, labels)\n",
    "            val_loss += loss.item()\n",
    "\n",
    "            correct_val += calculate_accuracy(outputs, labels)\n",
    "            total_val += labels.size(0)\n",
    "\n",
    "    val_accuracy = 100 * correct_val / total_val\n",
    "    avg_val_loss = val_loss / len(val_loader)\n",
    "    print(f\"Validation Loss: {avg_val_loss:.4f}, Validation Accuracy: {val_accuracy:.2f}%\")\n",
    "\n",
    "    # Save validation loss and accuracy\n",
    "    hist['val_loss'].append(avg_val_loss)\n",
    "    hist['val_acc'].append(val_accuracy)\n",
    "\n",
    "    # Check early stopping criteria\n",
    "    early_stopping(avg_val_loss)\n",
    "    if early_stopping.early_stop:\n",
    "        print(f\"Early stopping at Epoch {epoch+1}\")\n",
    "        break\n",
    "\n",
    "    # Save the best model if the current validation loss is the lowest\n",
    "    if early_stopping.best_loss is None or avg_val_loss <= early_stopping.best_loss:\n",
    "        best_model_wts = copy.deepcopy(model.state_dict())\n",
    "        print(f\"Best model updated at Epoch {epoch+1} with Validation Accuracy: {val_accuracy:.2f}% and Loss: {avg_val_loss:.4f}\")\n",
    "\n",
    "# Load the best model weights\n",
    "model.load_state_dict(best_model_wts)\n",
    "\n",
    "# Save the best model\n",
    "torch.save(model.state_dict(), 'best_model.pt')"
   ]
  },
  {
   "cell_type": "markdown",
   "id": "5822f450",
   "metadata": {},
   "source": [
    "## Training and Validation History\n",
    "We visualize the training and validation loss and accuracy over the epochs to analyze the model's performance and check for any signs of overfitting.\n"
   ]
  },
  {
   "cell_type": "code",
   "execution_count": 13,
   "id": "6b980f35",
   "metadata": {
    "scrolled": true
   },
   "outputs": [
    {
     "data": {
      "image/png": "[encoded data removed]",
      "text/plain": [
       "<Figure size 1000x500 with 1 Axes>"
      ]
     },
     "metadata": {},
     "output_type": "display_data"
    },
    {
     "data": {
      "image/png": "[encoded data removed]",
      "text/plain": [
       "<Figure size 1000x500 with 1 Axes>"
      ]
     },
     "metadata": {},
     "output_type": "display_data"
    }
   ],
   "source": [
    "# Plotting training and validation history\n",
    "import matplotlib.pyplot as plt\n",
    "\n",
    "# Plot loss\n",
    "plt.figure(figsize=(10, 5))\n",
    "plt.plot(hist['train_loss'], label='Training Loss')\n",
    "plt.plot(hist['val_loss'], label='Validation Loss')\n",
    "plt.xlabel('Epochs')\n",
    "plt.ylabel('Loss')\n",
    "plt.title('Training and Validation Loss')\n",
    "plt.legend()\n",
    "plt.show()\n",
    "\n",
    "# Plot accuracy\n",
    "plt.figure(figsize=(10, 5))\n",
    "plt.plot(hist['train_acc'], label='Training Accuracy')\n",
    "plt.plot(hist['val_acc'], label='Validation Accuracy')\n",
    "plt.xlabel('Epochs')\n",
    "plt.ylabel('Accuracy')\n",
    "plt.title('Training and Validation Accuracy')\n",
    "plt.legend()\n",
    "plt.show()"
   ]
  },
  {
   "cell_type": "markdown",
   "id": "e3d56ec2",
   "metadata": {},
   "source": [
    "## Conclusion\n",
    "\n",
    "The CNN model based on ResNet architecture was trained over **18 epochs** to classify music genres. During training, the model achieved a **training accuracy** of up to **99.81%**, demonstrating effective learning. Validation accuracy peaked at **81.78%**, indicating that the model was able to generalize well to unseen data. \n",
    "\n",
    "Early stopping was applied to prevent overfitting. The training was halted at **Epoch 18**, when the validation loss began to rise and exceeded the early stopping criteria. The lowest validation loss recorded was **0.7509** with a corresponding validation accuracy of **81.09%** at **Epoch 13**. \n",
    "\n",
    "Key observations from the training process:\n",
    "\n",
    "- The model’s accuracy improved consistently as the learning rate was adjusted, highlighting the importance of **learning rate scheduling**.\n",
    "- Early stopping proved effective in preventing **overfitting**, ensuring that the model performance on validation data was maintained without further unnecessary training.\n",
    "- The training results show a strong fit with the training data; however, the validation accuracy suggests room for further tuning or using techniques such as **data augmentation** to enhance performance.\n",
    "\n",
    "The final model, saved based on the best validation performance, shows promising results for future application in **music genre classification** based on audio features.\n"
   ]
  },
  {
   "cell_type": "markdown",
   "id": "42ce5c08",
   "metadata": {},
   "source": [
    "### Further Improvements\n",
    "- **Data Augmentation**: Incorporating data augmentation techniques such as time-stretching or pitch-shifting could enhance model robustness.\n",
    "- **Hyperparameter Tuning**: Experimenting with different learning rates, batch sizes, and ResNet block configurations could further optimize performance.\n",
    "- **Transfer Learning**: Using pretrained models on similar audio tasks might accelerate convergence and improve accuracy.\n"
   ]
  }
 ],
 "metadata": {
  "kernelspec": {
   "display_name": "Python 3 (ipykernel)",
   "language": "python",
   "name": "python3"
  },
  "language_info": {
   "codemirror_mode": {
    "name": "ipython",
    "version": 3
   },
   "file_extension": ".py",
   "mimetype": "text/x-python",
   "name": "python",
   "nbconvert_exporter": "python",
   "pygments_lexer": "ipython3",
   "version": "3.11.5"
  }
 },
 "nbformat": 4,
 "nbformat_minor": 5
}
